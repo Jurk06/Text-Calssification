{
  "cells": [
    {
      "metadata": {
        "_uuid": "8f2839f25d086af736a60e9eeb907d3b93b6e0e5",
        "_cell_guid": "b1076dfc-b9ad-4769-8c92-a6c4dae69d19",
        "trusted": true
      },
      "cell_type": "code",
      "source": "# This Python 3 environment comes with many helpful analytics libraries installed\n# It is defined by the kaggle/python docker image: https://github.com/kaggle/docker-python\n# For example, here's several helpful packages to load in \n\nimport numpy as np # linear algebra\nimport pandas as pd # data processing, CSV file I/O (e.g. pd.read_csv)\n\n# Input data files are available in the \"../input/\" directory.\n# For example, running this (by clicking run or pressing Shift+Enter) will list the files in the input directory\n\nimport os\nprint(os.listdir(\"../input\"))\n\n# Any results you write to the current directory are saved as output.",
      "execution_count": 1,
      "outputs": [
        {
          "output_type": "stream",
          "text": "['testData.tsv', 'sampleSubmission.csv', 'labeledTrainData.tsv', 'unlabeledTrainData.tsv']\n",
          "name": "stdout"
        }
      ]
    },
    {
      "metadata": {
        "_cell_guid": "79c7e3d0-c299-4dcb-8224-4455121ee9b0",
        "_uuid": "d629ff2d2480ee46fbb7e2d37f6b5fab8052498a",
        "trusted": true
      },
      "cell_type": "code",
      "source": "import numpy as np \nimport pandas as pd \nimport re\nfrom bs4 import BeautifulSoup\nimport nltk\n\nimport os",
      "execution_count": 2,
      "outputs": []
    },
    {
      "metadata": {
        "trusted": true,
        "_uuid": "4a12272aa5646ab3d9edab261e6ef0d40ffe073b"
      },
      "cell_type": "code",
      "source": "train = pd.read_csv(\"../input/labeledTrainData.tsv\", header = 0, delimiter = '\\t')\n",
      "execution_count": 3,
      "outputs": []
    },
    {
      "metadata": {
        "trusted": true,
        "_uuid": "4ba0fb2002c08a44f6a7a5ea20991e9affd9d6a2"
      },
      "cell_type": "code",
      "source": "from nltk.corpus import stopwords\ndef review_to_words( raw_review):\n        review_text = BeautifulSoup(raw_review, features=\"html5lib\").get_text()\n        letters_only = re.sub(\"[^a-zA-Z]\", \" \", review_text)            \n        words = letters_only.lower().split() \n        stops = set(stopwords.words(\"english\"))                         \n        meaningful_words = [w for w in words if not w in stops]         \n        return(\" \".join( meaningful_words ))",
      "execution_count": 4,
      "outputs": []
    },
    {
      "metadata": {
        "trusted": true,
        "_uuid": "fe42b47935d7c6cd1d5f2c9ac8e5a2887c183c4e"
      },
      "cell_type": "code",
      "source": "num_reviews = train[\"review\"].size\nclean_train_reviews = []\n\nfor i in range( 0, num_reviews):\n        clean_train_reviews.append( review_to_words( train[\"review\"][i]))",
      "execution_count": 5,
      "outputs": []
    },
    {
      "metadata": {
        "trusted": true,
        "_uuid": "438b839148efa45d0e100da58e87b9995a516e59"
      },
      "cell_type": "code",
      "source": "from sklearn.feature_extraction.text import CountVectorizer \nvectorizer = CountVectorizer(analyzer = \"word\",   \\\n                             tokenizer = None,    \\\n                             preprocessor = None, \\\n                             stop_words = None,   \\\n                             max_features = 5000) \ntrain_data_features = vectorizer.fit_transform(clean_train_reviews)\ntrain_data_features = train_data_features.toarray()",
      "execution_count": 6,
      "outputs": []
    },
    {
      "metadata": {
        "trusted": true,
        "_uuid": "fdf681e4095205c0b0b5492c474f9e087f7e5b86"
      },
      "cell_type": "code",
      "source": "from sklearn.ensemble import RandomForestClassifier\nforest = RandomForestClassifier(n_estimators = 150) \nforest = forest.fit( train_data_features, train[\"sentiment\"] )",
      "execution_count": 7,
      "outputs": [
        {
          "output_type": "stream",
          "text": "/opt/conda/lib/python3.6/site-packages/sklearn/ensemble/weight_boosting.py:29: DeprecationWarning: numpy.core.umath_tests is an internal NumPy module and should not be imported. It will be removed in a future NumPy release.\n  from numpy.core.umath_tests import inner1d\n",
          "name": "stderr"
        }
      ]
    },
    {
      "metadata": {
        "trusted": true,
        "_uuid": "c046315cfeb62905cffbf6fef5098b5d7726a147"
      },
      "cell_type": "code",
      "source": "test = pd.read_csv(\"../input/testData.tsv\", header=0, delimiter=\"\\t\", \\\n                   quoting=3 )\n\nnum_reviews = len(test[\"review\"])\nclean_test_reviews = [] \n\n\nfor i in range(0,num_reviews):\n    clean_review = review_to_words( test[\"review\"][i] )\n    clean_test_reviews.append( clean_review )\n    \ntest_data_features = vectorizer.transform(clean_test_reviews)\ntest_data_features = test_data_features.toarray()\n\nresult = forest.predict(test_data_features)\noutput = pd.DataFrame( data={\"id\":test[\"id\"], \"sentiment\":result} )\n\noutput.to_csv( \"submimision.csv\", index=False, quoting=3 )",
      "execution_count": 8,
      "outputs": []
    },
    {
      "metadata": {
        "trusted": true,
        "_uuid": "2818c09cae28e99c9e92955cfd217dc318f89f71"
      },
      "cell_type": "code",
      "source": "",
      "execution_count": null,
      "outputs": []
    }
  ],
  "metadata": {
    "kernelspec": {
      "display_name": "Python 3",
      "language": "python",
      "name": "python3"
    },
    "language_info": {
      "name": "python",
      "version": "3.6.6",
      "mimetype": "text/x-python",
      "codemirror_mode": {
        "name": "ipython",
        "version": 3
      },
      "pygments_lexer": "ipython3",
      "nbconvert_exporter": "python",
      "file_extension": ".py"
    }
  },
  "nbformat": 4,
  "nbformat_minor": 1
}